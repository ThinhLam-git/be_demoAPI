{
 "cells": [
  {
   "cell_type": "code",
   "execution_count": 7,
   "metadata": {},
   "outputs": [],
   "source": [
    "import csv\n",
    "\n",
    "def read_csv(file_path):\n",
    "    \"\"\"\n",
    "    Đọc dữ liệu từ tệp CSV và chuyển thành các danh sách số liệu.\n",
    "    Giả sử tệp có hai cột dữ liệu, không tính dòng tiêu đề.\n",
    "    \"\"\"\n",
    "    x = []\n",
    "    y = []\n",
    "    with open(file_path, mode='r', encoding='utf-8') as file:\n",
    "        reader = csv.reader(file)\n",
    "        next(reader)  # Bỏ qua dòng tiêu đề, nếu có\n",
    "        for row in reader:\n",
    "            if len(row) >= 2:  # Đảm bảo có ít nhất 2 cột\n",
    "                x.append(float(row[0].strip()))\n",
    "                y.append(float(row[1].strip()))\n",
    "    return x, y"
   ]
  },
  {
   "cell_type": "code",
   "execution_count": 8,
   "metadata": {},
   "outputs": [],
   "source": [
    "def mean(values):\n",
    "    \"\"\"Tính giá trị trung bình.\"\"\"\n",
    "    return sum(values) / len(values)\n",
    "\n",
    "def pearson_correlation(x, y):\n",
    "    \"\"\"\n",
    "    Tính hệ số tương quan Pearson giữa hai danh sách số liệu x và y.\n",
    "    Điều kiện: x và y phải có cùng độ dài.\n",
    "    \"\"\"\n",
    "    if len(x) != len(y):\n",
    "        raise ValueError(\"Hai danh sách x và y phải có cùng độ dài.\")\n",
    "    \n",
    "    n = len(x)\n",
    "    mean_x = mean(x)\n",
    "    mean_y = mean(y)\n",
    "    \n",
    "    # Tính các thành phần của công thức\n",
    "    numerator = sum((x[i] - mean_x) * (y[i] - mean_y) for i in range(n))\n",
    "    denominator_x = sum((x[i] - mean_x) ** 2 for i in range(n))\n",
    "    denominator_y = sum((y[i] - mean_y) ** 2 for i in range(n))\n",
    "    denominator = (denominator_x * denominator_y) ** 0.5\n",
    "    \n",
    "    if denominator == 0:\n",
    "        return 0  # Trường hợp đặc biệt: nếu biến x hoặc y không thay đổi.\n",
    "    \n",
    "    return numerator / denominator\n",
    "\n",
    "def interpret_correlation(r):\n",
    "    \"\"\"\n",
    "    Đưa ra kết luận dựa trên hệ số tương quan Pearson.\n",
    "    \"\"\"\n",
    "    if r == 1:\n",
    "        return \"Hai biến có mối quan hệ tuyến tính hoàn hảo và cùng chiều.\"\n",
    "    elif r == -1:\n",
    "        return \"Hai biến có mối quan hệ tuyến tính hoàn hảo nhưng ngược chiều.\"\n",
    "    elif 0.7 <= r < 1:\n",
    "        return \"Hai biến có mối quan hệ tuyến tính chặt chẽ và cùng chiều.\"\n",
    "    elif -1 < r <= -0.7:\n",
    "        return \"Hai biến có mối quan hệ tuyến tính chặt chẽ nhưng ngược chiều.\"\n",
    "    elif 0.3 <= r < 0.7:\n",
    "        return \"Hai biến có mối quan hệ tuyến tính trung bình và cùng chiều.\"\n",
    "    elif -0.7 < r <= -0.3:\n",
    "        return \"Hai biến có mối quan hệ tuyến tính trung bình nhưng ngược chiều.\"\n",
    "    elif -0.3 < r < 0.3:\n",
    "        return \"Hai biến có rất ít hoặc không có mối quan hệ tuyến tính.\"\n",
    "    else:\n",
    "        return \"Mối quan hệ giữa hai biến không rõ ràng.\""
   ]
  },
  {
   "cell_type": "code",
   "execution_count": 9,
   "metadata": {},
   "outputs": [
    {
     "name": "stderr",
     "output_type": "stream",
     "text": [
      "<>:2: SyntaxWarning: invalid escape sequence '\\h'\n",
      "<>:2: SyntaxWarning: invalid escape sequence '\\h'\n",
      "C:\\Users\\ADMIN\\AppData\\Local\\Temp\\ipykernel_27192\\1553296611.py:2: SyntaxWarning: invalid escape sequence '\\h'\n",
      "  file_path = 'D:\\hk5\\khai thác dữ liệu\\DOAN\\Datamining\\dt.csv'\n"
     ]
    }
   ],
   "source": [
    "# Đường dẫn đến tệp CSV\n",
    "file_path = 'D:\\hk5\\khai thác dữ liệu\\DOAN\\Datamining\\dt.csv'"
   ]
  },
  {
   "cell_type": "code",
   "execution_count": 10,
   "metadata": {},
   "outputs": [],
   "source": [
    "# Đọc dữ liệu từ CSV\n",
    "x, y = read_csv(file_path)"
   ]
  },
  {
   "cell_type": "code",
   "execution_count": 11,
   "metadata": {},
   "outputs": [
    {
     "name": "stdout",
     "output_type": "stream",
     "text": [
      "Hệ số tương quan Pearson: -0.92\n"
     ]
    }
   ],
   "source": [
    "# Tính hệ số tương quan\n",
    "r = pearson_correlation(x, y)\n",
    "print(f\"Hệ số tương quan Pearson: {r:.2f}\")"
   ]
  },
  {
   "cell_type": "code",
   "execution_count": 12,
   "metadata": {},
   "outputs": [
    {
     "name": "stdout",
     "output_type": "stream",
     "text": [
      "Hệ số tương quan Pearson: -0.92\n",
      "Kết luận: Hai biến có mối quan hệ tuyến tính chặt chẽ nhưng ngược chiều.\n"
     ]
    }
   ],
   "source": [
    "# In hệ số tương quan và kết luận\n",
    "print(f\"Hệ số tương quan Pearson: {r:.2f}\")\n",
    "print(\"Kết luận:\", interpret_correlation(r))"
   ]
  }
 ],
 "metadata": {
  "kernelspec": {
   "display_name": "Python 3",
   "language": "python",
   "name": "python3"
  },
  "language_info": {
   "codemirror_mode": {
    "name": "ipython",
    "version": 3
   },
   "file_extension": ".py",
   "mimetype": "text/x-python",
   "name": "python",
   "nbconvert_exporter": "python",
   "pygments_lexer": "ipython3",
   "version": "3.12.8"
  }
 },
 "nbformat": 4,
 "nbformat_minor": 2
}
