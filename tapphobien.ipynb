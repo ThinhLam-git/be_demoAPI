{
 "cells": [
  {
   "cell_type": "code",
   "execution_count": 23,
   "metadata": {},
   "outputs": [],
   "source": [
    "import csv\n",
    "\n",
    "# Đọc dữ liệu giao dịch từ tệp CSV\n",
    "def read_transactions_from_csv(file_path):\n",
    "    transactions = []\n",
    "    with open(file_path, newline='', encoding='utf-8-sig') as csvfile:  # Dùng utf-8-sig để xử lý BOM\n",
    "        reader = csv.reader(csvfile)\n",
    "        for row in reader:\n",
    "            cleaned_row = {item.strip() for item in row if item.strip()}  # Loại bỏ mục rỗng và khoảng trắng\n",
    "            if cleaned_row:  # Bỏ qua các dòng trống hoàn toàn\n",
    "                transactions.append(cleaned_row)\n",
    "    return transactions\n"
   ]
  },
  {
   "cell_type": "code",
   "execution_count": 24,
   "metadata": {},
   "outputs": [],
   "source": [
    "\n",
    "\n",
    "# Ngưỡng\n",
    "minsup = 0.3\n",
    "minconf = 1.0\n",
    "\n",
    "# Hàm tính độ hỗ trợ cho một tập hợp\n",
    "def calculate_support(transactions, itemset):\n",
    "    count = sum(1 for transaction in transactions if itemset.issubset(transaction))\n",
    "    return count / len(transactions)\n",
    "\n",
    "# Hàm sinh tập phổ biến tối đại\n",
    "def find_frequent_itemsets(transactions, minsup):\n",
    "    items = {item for transaction in transactions for item in transaction}\n",
    "    level_1 = [{item} for item in items if calculate_support(transactions, {item}) >= minsup]\n",
    "    frequent_itemsets = [set(itemset) for itemset in level_1]\n",
    "    all_frequent = [frequent_itemsets]\n",
    "    \n",
    "    k = 2\n",
    "    while True:\n",
    "        # Sinh ứng viên cấp k\n",
    "        candidates = []\n",
    "        previous_level = all_frequent[-1]\n",
    "        for i in range(len(previous_level)):\n",
    "            for j in range(i + 1, len(previous_level)):\n",
    "                union_set = previous_level[i] | previous_level[j]\n",
    "                if len(union_set) == k and union_set not in candidates:\n",
    "                    candidates.append(union_set)\n",
    "        # Lọc tập phổ biến\n",
    "        current_level = [c for c in candidates if calculate_support(transactions, c) >= minsup]\n",
    "        if not current_level:\n",
    "            break\n",
    "        all_frequent.append(current_level)\n",
    "        frequent_itemsets.extend(current_level)\n",
    "        k += 1\n",
    "    \n",
    "    # Lọc tập phổ biến tối đại\n",
    "    maximal_itemsets = []\n",
    "    for itemset in frequent_itemsets:\n",
    "        if not any(itemset < other for other in frequent_itemsets):  # Kiểm tra không có tập cha nào phổ biến hơn\n",
    "            maximal_itemsets.append(itemset)\n",
    "    \n",
    "    return maximal_itemsets\n",
    "\n",
    "# Hàm sinh luật kết hợp từ tập phổ biến tối đại\n",
    "def generate_association_rules(maximal_itemsets, transactions, minconf):\n",
    "    rules = []\n",
    "    for itemset in maximal_itemsets:\n",
    "        subsets = [set(sub) for sub in generate_subsets(itemset)]\n",
    "        for antecedent in subsets:\n",
    "            consequent = itemset - antecedent\n",
    "            if antecedent and consequent:\n",
    "                support_itemset = calculate_support(transactions, itemset)\n",
    "                support_antecedent = calculate_support(transactions, antecedent)\n",
    "                confidence = support_itemset / support_antecedent if support_antecedent > 0 else 0\n",
    "                if confidence >= minconf:\n",
    "                    rules.append((antecedent, consequent, confidence))\n",
    "    return rules\n",
    "\n",
    "# Sinh tất cả tập hợp con của một tập hợp\n",
    "def generate_subsets(itemset):\n",
    "    items = list(itemset)\n",
    "    subsets = []\n",
    "    for i in range(1, 1 << len(items)):  # Từ 1 đến 2^n - 1\n",
    "        subset = {items[j] for j in range(len(items)) if (i & (1 << j))}\n",
    "        subsets.append(subset)\n",
    "    return subsets\n",
    "\n"
   ]
  },
  {
   "cell_type": "code",
   "execution_count": 25,
   "metadata": {},
   "outputs": [
    {
     "name": "stderr",
     "output_type": "stream",
     "text": [
      "<>:2: SyntaxWarning: invalid escape sequence '\\h'\n",
      "<>:2: SyntaxWarning: invalid escape sequence '\\h'\n",
      "C:\\Users\\ADMIN\\AppData\\Local\\Temp\\ipykernel_15672\\3391092964.py:2: SyntaxWarning: invalid escape sequence '\\h'\n",
      "  file_path = 'D:\\hk5\\khai thác dữ liệu\\DOAN\\dta.csv'\n"
     ]
    }
   ],
   "source": [
    "# Đường dẫn tới tệp CSV\n",
    "file_path = 'D:\\hk5\\khai thác dữ liệu\\DOAN\\dta.csv'\n"
   ]
  },
  {
   "cell_type": "code",
   "execution_count": 26,
   "metadata": {},
   "outputs": [],
   "source": [
    "# Đọc giao dịch từ tệp CSV\n",
    "transactions = read_transactions_from_csv(file_path)\n"
   ]
  },
  {
   "cell_type": "code",
   "execution_count": 27,
   "metadata": {},
   "outputs": [
    {
     "data": {
      "text/plain": [
       "([{'i5', 'i6'},\n",
       "  {'i1', 'i3', 'i6'},\n",
       "  {'i1', 'i4', 'i6'},\n",
       "  {'i2', 'i4', 'i6'},\n",
       "  {'i1', 'i2', 'i4', 'i5'}],\n",
       " [({'i1', 'i3'}, {'i6'}, 1.0),\n",
       "  ({'i2', 'i6'}, {'i4'}, 1.0),\n",
       "  ({'i2', 'i5'}, {'i1', 'i4'}, 1.0),\n",
       "  ({'i4', 'i5'}, {'i1', 'i2'}, 1.0),\n",
       "  ({'i2', 'i4', 'i5'}, {'i1'}, 1.0),\n",
       "  ({'i1', 'i2'}, {'i4', 'i5'}, 1.0),\n",
       "  ({'i1', 'i2', 'i4'}, {'i5'}, 1.0),\n",
       "  ({'i1', 'i5'}, {'i2', 'i4'}, 1.0),\n",
       "  ({'i1', 'i2', 'i5'}, {'i4'}, 1.0),\n",
       "  ({'i1', 'i4', 'i5'}, {'i2'}, 1.0)])"
      ]
     },
     "execution_count": 27,
     "metadata": {},
     "output_type": "execute_result"
    }
   ],
   "source": [
    "# Thực hiện thuật toán\n",
    "maximal_itemsets = find_frequent_itemsets(transactions, minsup)\n",
    "association_rules = generate_association_rules(maximal_itemsets, transactions, minconf)\n",
    "\n",
    "maximal_itemsets, association_rules\n"
   ]
  },
  {
   "cell_type": "code",
   "execution_count": 28,
   "metadata": {},
   "outputs": [],
   "source": [
    "# Lọc tập phổ biến\n",
    "maximal_itemsets = [itemset for itemset in maximal_itemsets if '' not in itemset]\n",
    "\n",
    "# Lọc luật kết hợp\n",
    "association_rules = [\n",
    "    (antecedent, consequent, confidence)\n",
    "    for antecedent, consequent, confidence in association_rules\n",
    "    if '' not in antecedent and '' not in consequent\n",
    "]\n"
   ]
  },
  {
   "cell_type": "code",
   "execution_count": 29,
   "metadata": {},
   "outputs": [
    {
     "name": "stdout",
     "output_type": "stream",
     "text": [
      "Dữ liệu giao dịch sau khi làm sạch:\n",
      "{'i6', 'i3', 'i4', 'i1'}\n",
      "{'i6', 'i3', 'i1'}\n",
      "{'i6', 'i3', 'i5'}\n",
      "{'i2', 'i4', 'i5', 'i1'}\n",
      "{'i2', 'i6', 'i4'}\n",
      "{'i6', 'i1', 'i2', 'i4', 'i5'}\n"
     ]
    }
   ],
   "source": [
    "print(\"Dữ liệu giao dịch sau khi làm sạch:\")\n",
    "for transaction in transactions:\n",
    "    print(transaction)\n"
   ]
  },
  {
   "cell_type": "code",
   "execution_count": 30,
   "metadata": {},
   "outputs": [
    {
     "name": "stdout",
     "output_type": "stream",
     "text": [
      "Tập phổ biến tối đại:\n",
      "{'i6', 'i5'}\n",
      "{'i6', 'i3', 'i1'}\n",
      "{'i6', 'i4', 'i1'}\n",
      "{'i2', 'i6', 'i4'}\n",
      "{'i2', 'i4', 'i5', 'i1'}\n",
      "\n",
      "Các luật kết hợp:\n",
      "{'i3', 'i1'} -> {'i6'} (confidence = 1.00)\n",
      "{'i2', 'i6'} -> {'i4'} (confidence = 1.00)\n",
      "{'i2', 'i5'} -> {'i4', 'i1'} (confidence = 1.00)\n",
      "{'i4', 'i5'} -> {'i2', 'i1'} (confidence = 1.00)\n",
      "{'i2', 'i4', 'i5'} -> {'i1'} (confidence = 1.00)\n",
      "{'i2', 'i1'} -> {'i4', 'i5'} (confidence = 1.00)\n",
      "{'i2', 'i4', 'i1'} -> {'i5'} (confidence = 1.00)\n",
      "{'i5', 'i1'} -> {'i2', 'i4'} (confidence = 1.00)\n",
      "{'i2', 'i5', 'i1'} -> {'i4'} (confidence = 1.00)\n",
      "{'i4', 'i5', 'i1'} -> {'i2'} (confidence = 1.00)\n"
     ]
    }
   ],
   "source": [
    "# In kết quả\n",
    "print(\"Tập phổ biến tối đại:\")\n",
    "for itemset in maximal_itemsets:\n",
    "    print(itemset)\n",
    "\n",
    "print(\"\\nCác luật kết hợp:\")\n",
    "for antecedent, consequent, confidence in association_rules:\n",
    "    print(f\"{antecedent} -> {consequent} (confidence = {confidence:.2f})\")"
   ]
  }
 ],
 "metadata": {
  "kernelspec": {
   "display_name": "Python 3",
   "language": "python",
   "name": "python3"
  },
  "language_info": {
   "codemirror_mode": {
    "name": "ipython",
    "version": 3
   },
   "file_extension": ".py",
   "mimetype": "text/x-python",
   "name": "python",
   "nbconvert_exporter": "python",
   "pygments_lexer": "ipython3",
   "version": "3.12.8"
  }
 },
 "nbformat": 4,
 "nbformat_minor": 2
}
